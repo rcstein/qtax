{
 "cells": [
  {
   "cell_type": "code",
   "execution_count": 77,
   "metadata": {},
   "outputs": [],
   "source": [
    "key = 'a250df75af2accf2846eacbb9ceaa4fd'\n",
    "import os\n",
    "import requests\n",
    "import pandas as pd\n",
    "\n",
    "class FredAPI():\n",
    "    \n",
    "    def __init__(self, api_key):\n",
    "        self.api_key = api_key\n",
    "        self.root_url = 'https://api.stlouisfed.org/fred/'\n",
    "    \n",
    "    def _get_as_json(self,url):\n",
    "        self._conversion_func = {'func': pd.read_json, 'kwargs': {'orient':'records'}}\n",
    "        return requests.get(url + '&file_type=json').text\n",
    "    \n",
    "    def _get_as_xml(self,url):\n",
    "        return requests.get(url + '&file_type=xml').text\n",
    "    \n",
    "    def _get_as_txt(self,url):\n",
    "        self._conversion_func = {'func': pd.read_sv, 'kwargs': {'sep':'/t'}}\n",
    "        return requests.get(url + '&file_type=txt').text\n",
    "        \n",
    "    def to_pandas(self, response):\n",
    "        return self._conversion_func['func'](response, **self._conversion_func['kwargs'])\n",
    "    \n",
    "    def save(self, path = './'):\n",
    "        \"\"\"Save retrieved data as csv. Default location is current directory.\"\"\"\n",
    "        pass\n",
    "\n",
    "class Category(FredAPI):\n",
    "    def __init__(self,category_id):\n",
    "        super.__init__(self, api_key)\n",
    "        self.root_url = self.root_url + \"category\"\n",
    "        self.category_id = category_id\n",
    "        \n",
    "class Releases(FredAPI):\n",
    "    def __init__(self):\n",
    "        super.__init__(self, api_key)\n",
    "        self.root_url = self.root_url + \"releases\"\n",
    "        \n",
    "class Tags(FredAPI):\n",
    "    def __init__(self):\n",
    "        super.__init__(self, api_key)\n",
    "        self.root_url = self.root_url + \"tags\"\n",
    "        \n",
    "class Sources(FredAPI):\n",
    "    def __init__(self):\n",
    "        super.__init__(api_key)\n",
    "        self.root_url = self.root_url + \"sources\"\n",
    "        \n",
    "class Series(FredAPI):\n",
    "    def __init__(self, api_key, series_id = 3):\n",
    "        super().__init__(api_key)\n",
    "        self.series_id = series_id\n",
    "        self.root_url = self.root_url + \"series\"\n",
    "\n",
    "        \n",
    "    def get_data(self, file_type = 'json', **kwargs):\n",
    "        url = self.root_url + '/observations?series_id={}&api_key={}'.format(self.series_id,self.api_key)\n",
    "        for key, val in kwargs.items():\n",
    "            url += '&{}={}'.format(key,val)\n",
    "        if file_type == 'json':\n",
    "            return self._get_as_json(url)\n",
    "        elif file_type == 'txt':\n",
    "            return self._get_as_text(url)\n",
    "        \n"
   ]
  }
 ],
 "metadata": {
  "kernelspec": {
   "display_name": "Python 3",
   "language": "python",
   "name": "python3"
  },
  "language_info": {
   "codemirror_mode": {
    "name": "ipython",
    "version": 3
   },
   "file_extension": ".py",
   "mimetype": "text/x-python",
   "name": "python",
   "nbconvert_exporter": "python",
   "pygments_lexer": "ipython3",
   "version": "3.7.3"
  },
  "toc": {
   "base_numbering": 1,
   "nav_menu": {},
   "number_sections": true,
   "sideBar": true,
   "skip_h1_title": false,
   "title_cell": "Table of Contents",
   "title_sidebar": "Contents",
   "toc_cell": false,
   "toc_position": {},
   "toc_section_display": true,
   "toc_window_display": false
  },
  "varInspector": {
   "cols": {
    "lenName": 16,
    "lenType": 16,
    "lenVar": 40
   },
   "kernels_config": {
    "python": {
     "delete_cmd_postfix": "",
     "delete_cmd_prefix": "del ",
     "library": "var_list.py",
     "varRefreshCmd": "print(var_dic_list())"
    },
    "r": {
     "delete_cmd_postfix": ") ",
     "delete_cmd_prefix": "rm(",
     "library": "var_list.r",
     "varRefreshCmd": "cat(var_dic_list()) "
    }
   },
   "types_to_exclude": [
    "module",
    "function",
    "builtin_function_or_method",
    "instance",
    "_Feature"
   ],
   "window_display": false
  }
 },
 "nbformat": 4,
 "nbformat_minor": 2
}
