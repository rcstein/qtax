{
 "cells": [
  {
   "cell_type": "code",
   "execution_count": 23,
   "metadata": {},
   "outputs": [],
   "source": [
    "# Downloading PDFs\n",
    "import requests\n",
    "from bs4 import BeautifulSoup\n",
    "import wget\n",
    "\n",
    "# Data handling\n",
    "import pandas as pd\n",
    "import numpy as np\n",
    "import datetime\n",
    "import re\n",
    "\n",
    "# Statistics\n",
    "import statsmodels.tsa.x13 as sx13\n",
    "\n",
    "# I/O\n",
    "import os\n",
    "\n",
    "# Visualization\n",
    "import seaborn as sns\n",
    "import matplotlib.pyplot as plt\n",
    "%matplotlib inline"
   ]
  },
  {
   "cell_type": "code",
   "execution_count": null,
   "metadata": {},
   "outputs": [],
   "source": [
    "# set directory for files to be stored\n",
    "DIR = \"Data\"\n",
    "os.chdir(DIR)"
   ]
  },
  {
   "cell_type": "markdown",
   "metadata": {},
   "source": [
    "### Downloading PDFs"
   ]
  },
  {
   "cell_type": "code",
   "execution_count": 21,
   "metadata": {},
   "outputs": [],
   "source": [
    "# url template for table listing page\n",
    "main_page = \"https://www2.census.gov/programs-surveys/qtax/tables/{}/q4t1.pdf\""
   ]
  },
  {
   "cell_type": "code",
   "execution_count": 23,
   "metadata": {},
   "outputs": [
    {
     "name": "stdout",
     "output_type": "stream",
     "text": [
      "1962 table failed to download\n",
      "1977 table failed to download\n",
      "1979 table failed to download\n",
      "1981 table failed to download\n",
      "1983 table failed to download\n",
      "1992 table failed to download\n"
     ]
    }
   ],
   "source": [
    "years = map(str,range(1962,1994))\n",
    "for year in years:\n",
    "    try:\n",
    "        wget.download(main_page.format(year), \"{}.pdf\".format(year))\n",
    "    except:\n",
    "        print(\"{} table failed to download\".format(year))"
   ]
  },
  {
   "cell_type": "markdown",
   "metadata": {},
   "source": [
    "Notes: \n",
    "Went back and manually downloaded the tables that raised errors\n",
    "Only quarters 1 and 2 available for 1992"
   ]
  },
  {
   "cell_type": "markdown",
   "metadata": {},
   "source": [
    "### Reading and organizing data"
   ]
  },
  {
   "cell_type": "code",
   "execution_count": 19,
   "metadata": {},
   "outputs": [],
   "source": [
    "''' Read in all tax data\n",
    "Columns:\n",
    "Period - indicates yaer and quarter in format (YYYY-Q[1-4])\n",
    "Category - indicates type of tax. Types included are:\n",
    "    - Property \n",
    "    - General Sales and Gross Receipts \n",
    "    - Alcoholic Beverages Sales \n",
    "    - Amusements Sales \n",
    "    - Insurance Premiums Sales \n",
    "    - Motor Fuels Sales \n",
    "    - Pari-Mutuels Sales \n",
    "    - Public Utilities Sales \n",
    "    - Tobacco Products Sales \n",
    "    - Other Selective Sales and Gross Receipts \n",
    "    - Alcoholic Beverages License\n",
    "    - Amusements License\n",
    "    - Corporations in General License\n",
    "    - Hunting and Fishing License\n",
    "    - Motor Vehicles License\n",
    "    - Motor Vehicles Operators License\n",
    "    - Public Utilities License\n",
    "    - Occupation and Business License\n",
    "    - Other License \n",
    "    - Individual Income \n",
    "    - Corporation Net Income \n",
    "    - Death and Gift \n",
    "    - Documentary and Stock Transfer \n",
    "    - Severance \n",
    "    - Other Not Elsewhere Classified\n",
    "    - Total \n",
    "    See dataset documentation for detail on category definitions.\n",
    "State - indicates state with postal abbreviation. US denotes the total of all states except the District of Columbia.\n",
    "Value - indicates revenue in millions of dollars. Negative numbers indicate that refunds exceeded revenues.\n",
    "'''\n",
    "file_path = \"QTAX-edit.csv\"\n",
    "qtax_full = pd.read_csv(file_path, header = 0, index_col = \"Period\",\n",
    "                       dtype = {'Category':'S','State':'S','Value':'i8'},parse_dates = True, infer_datetime_format = True)\n",
    "qtax_full.dropna(inplace = True)"
   ]
  },
  {
   "cell_type": "code",
   "execution_count": 4,
   "metadata": {},
   "outputs": [
    {
     "data": {
      "text/html": [
       "<div>\n",
       "<style scoped>\n",
       "    .dataframe tbody tr th:only-of-type {\n",
       "        vertical-align: middle;\n",
       "    }\n",
       "\n",
       "    .dataframe tbody tr th {\n",
       "        vertical-align: top;\n",
       "    }\n",
       "\n",
       "    .dataframe thead th {\n",
       "        text-align: right;\n",
       "    }\n",
       "</style>\n",
       "<table border=\"1\" class=\"dataframe\">\n",
       "  <thead>\n",
       "    <tr style=\"text-align: right;\">\n",
       "      <th></th>\n",
       "      <th>Category</th>\n",
       "      <th>State</th>\n",
       "      <th>Value</th>\n",
       "    </tr>\n",
       "    <tr>\n",
       "      <th>Period</th>\n",
       "      <th></th>\n",
       "      <th></th>\n",
       "      <th></th>\n",
       "    </tr>\n",
       "  </thead>\n",
       "  <tbody>\n",
       "    <tr>\n",
       "      <th>2020-01-01</th>\n",
       "      <td>Total</td>\n",
       "      <td>VT</td>\n",
       "      <td>631</td>\n",
       "    </tr>\n",
       "    <tr>\n",
       "      <th>2020-01-01</th>\n",
       "      <td>Total</td>\n",
       "      <td>WA</td>\n",
       "      <td>8254</td>\n",
       "    </tr>\n",
       "    <tr>\n",
       "      <th>2020-01-01</th>\n",
       "      <td>Total</td>\n",
       "      <td>WI</td>\n",
       "      <td>4140</td>\n",
       "    </tr>\n",
       "    <tr>\n",
       "      <th>2020-01-01</th>\n",
       "      <td>Total</td>\n",
       "      <td>WV</td>\n",
       "      <td>1325</td>\n",
       "    </tr>\n",
       "    <tr>\n",
       "      <th>2020-01-01</th>\n",
       "      <td>Total</td>\n",
       "      <td>WY</td>\n",
       "      <td>446</td>\n",
       "    </tr>\n",
       "  </tbody>\n",
       "</table>\n",
       "</div>"
      ],
      "text/plain": [
       "           Category State  Value\n",
       "Period                          \n",
       "2020-01-01    Total    VT    631\n",
       "2020-01-01    Total    WA   8254\n",
       "2020-01-01    Total    WI   4140\n",
       "2020-01-01    Total    WV   1325\n",
       "2020-01-01    Total    WY    446"
      ]
     },
     "execution_count": 4,
     "metadata": {},
     "output_type": "execute_result"
    }
   ],
   "source": [
    "# Checking that data is structured correctly\n",
    "qtax_full.head()\n",
    "qtax_full.tail()"
   ]
  },
  {
   "cell_type": "code",
   "execution_count": 20,
   "metadata": {},
   "outputs": [],
   "source": [
    "totals = qtax_full[qtax_full.Category == \"Total\"]\n",
    "# Pull totals for most 15 populous states\n",
    "california_totals = totals[totals.State == \"CA\"][\"Value\"]\n",
    "texas_totals = totals[totals.State == \"TX\"][\"Value\"]\n",
    "florida_totals = totals[totals.State == \"FL\"][\"Value\"]\n",
    "newyork_totals = totals[totals.State == \"NY\"][\"Value\"]\n",
    "pennsylvania_totals = totals[totals.State == \"PA\"][\"Value\"]\n",
    "illinois_totals = totals[totals.State == \"IL\"][\"Value\"]\n",
    "ohio_totals = totals[totals.State == \"OH\"][\"Value\"]\n",
    "georgia_totals = totals[totals.State == \"GA\"][\"Value\"]\n",
    "northcarolina_totals = totals[totals.State == \"NC\"][\"Value\"]\n",
    "michigan_totals = totals[totals.State == \"MI\"][\"Value\"]\n",
    "newjersey_totals = totals[totals.State == \"NJ\"][\"Value\"]\n",
    "virginia_totals = totals[totals.State == \"VA\"][\"Value\"]\n",
    "washington_totals = totals[totals.State == \"WA\"][\"Value\"]\n",
    "arizona_totals = totals[totals.State == \"AZ\"][\"Value\"]\n",
    "massachusetts_totals = totals[totals.State == \"MA\"][\"Value\"]"
   ]
  },
  {
   "cell_type": "code",
   "execution_count": 28,
   "metadata": {},
   "outputs": [
    {
     "data": {
      "text/plain": [
       "<matplotlib.axes._subplots.AxesSubplot at 0x10fb75d30>"
      ]
     },
     "execution_count": 28,
     "metadata": {},
     "output_type": "execute_result"
    },
    {
     "data": {
      "image/png": "[encoded data removed]",
      "text/plain": [
       "<Figure size 432x288 with 1 Axes>"
      ]
     },
     "metadata": {
      "needs_background": "light"
     },
     "output_type": "display_data"
    }
   ],
   "source": [
    "texas_totals.plot()\n",
    "california_totals.plot()\n",
    "florida_totals.plot()\n",
    "newyork_totals.plot()"
   ]
  },
  {
   "cell_type": "code",
   "execution_count": 29,
   "metadata": {},
   "outputs": [
    {
     "name": "stdout",
     "output_type": "stream",
     "text": [
      "env: X13=\"/SA/x13as\"\n"
     ]
    },
    {
     "ename": "X13NotFoundError",
     "evalue": "x12a and x13as not found on path. Give the path, put them on PATH, or set the X12PATH or X13PATH environmental variable.",
     "output_type": "error",
     "traceback": [
      "\u001b[0;31m---------------------------------------------------------------------------\u001b[0m",
      "\u001b[0;31mX13NotFoundError\u001b[0m                          Traceback (most recent call last)",
      "\u001b[0;32m<ipython-input-29-ebd448f41300>\u001b[0m in \u001b[0;36m<module>\u001b[0;34m\u001b[0m\n\u001b[1;32m      1\u001b[0m \u001b[0mget_ipython\u001b[0m\u001b[0;34m(\u001b[0m\u001b[0;34m)\u001b[0m\u001b[0;34m.\u001b[0m\u001b[0mrun_line_magic\u001b[0m\u001b[0;34m(\u001b[0m\u001b[0;34m'env'\u001b[0m\u001b[0;34m,\u001b[0m \u001b[0;34m'X13 = \"/SA/x13as\"'\u001b[0m\u001b[0;34m)\u001b[0m\u001b[0;34m\u001b[0m\u001b[0;34m\u001b[0m\u001b[0m\n\u001b[0;32m----> 2\u001b[0;31m \u001b[0msx13\u001b[0m\u001b[0;34m.\u001b[0m\u001b[0mx13_arima_analysis\u001b[0m\u001b[0;34m(\u001b[0m\u001b[0mtexas_totals\u001b[0m\u001b[0;34m)\u001b[0m\u001b[0;34m\u001b[0m\u001b[0;34m\u001b[0m\u001b[0m\n\u001b[0m",
      "\u001b[0;32m~/anaconda3/lib/python3.7/site-packages/statsmodels/tsa/x13.py\u001b[0m in \u001b[0;36mx13_arima_analysis\u001b[0;34m(endog, maxorder, maxdiff, diff, exog, log, outlier, trading, forecast_years, retspec, speconly, start, freq, print_stdout, x12path, prefer_x13)\u001b[0m\n\u001b[1;32m    406\u001b[0m     \u001b[0mNotes\u001b[0m\u001b[0;34m\u001b[0m\u001b[0;34m\u001b[0m\u001b[0m\n\u001b[1;32m    407\u001b[0m     \u001b[0;34m-\u001b[0m\u001b[0;34m-\u001b[0m\u001b[0;34m-\u001b[0m\u001b[0;34m-\u001b[0m\u001b[0;34m-\u001b[0m\u001b[0;34m\u001b[0m\u001b[0;34m\u001b[0m\u001b[0m\n\u001b[0;32m--> 408\u001b[0;31m     \u001b[0mThis\u001b[0m \u001b[0mworks\u001b[0m \u001b[0mby\u001b[0m \u001b[0mcreating\u001b[0m \u001b[0ma\u001b[0m \u001b[0mspecification\u001b[0m \u001b[0mfile\u001b[0m\u001b[0;34m,\u001b[0m \u001b[0mwriting\u001b[0m \u001b[0mit\u001b[0m \u001b[0mto\u001b[0m \u001b[0ma\u001b[0m \u001b[0mtemporary\u001b[0m\u001b[0;34m\u001b[0m\u001b[0;34m\u001b[0m\u001b[0m\n\u001b[0m\u001b[1;32m    409\u001b[0m     \u001b[0mdirectory\u001b[0m\u001b[0;34m,\u001b[0m \u001b[0minvoking\u001b[0m \u001b[0mX12\u001b[0m\u001b[0;34m/\u001b[0m\u001b[0mX13\u001b[0m \u001b[0;32min\u001b[0m \u001b[0ma\u001b[0m \u001b[0msubprocess\u001b[0m\u001b[0;34m,\u001b[0m \u001b[0;32mand\u001b[0m \u001b[0mreading\u001b[0m \u001b[0mthe\u001b[0m \u001b[0moutput\u001b[0m\u001b[0;34m\u001b[0m\u001b[0;34m\u001b[0m\u001b[0m\n\u001b[1;32m    410\u001b[0m     \u001b[0mdirectory\u001b[0m\u001b[0;34m,\u001b[0m \u001b[0minvoking\u001b[0m \u001b[0mexog12\u001b[0m\u001b[0;34m/\u001b[0m\u001b[0mX13\u001b[0m \u001b[0;32min\u001b[0m \u001b[0ma\u001b[0m \u001b[0msubprocess\u001b[0m\u001b[0;34m,\u001b[0m \u001b[0;32mand\u001b[0m \u001b[0mreading\u001b[0m \u001b[0mthe\u001b[0m \u001b[0moutput\u001b[0m\u001b[0;34m\u001b[0m\u001b[0;34m\u001b[0m\u001b[0m\n",
      "\u001b[0;32m~/anaconda3/lib/python3.7/site-packages/statsmodels/tsa/x13.py\u001b[0m in \u001b[0;36m_check_x12\u001b[0;34m(x12path)\u001b[0m\n\u001b[1;32m     82\u001b[0m     \u001b[0;32melse\u001b[0m\u001b[0;34m:\u001b[0m\u001b[0;34m\u001b[0m\u001b[0;34m\u001b[0m\u001b[0m\n\u001b[1;32m     83\u001b[0m         \u001b[0;32mreturn\u001b[0m \u001b[0;32mFalse\u001b[0m\u001b[0;34m\u001b[0m\u001b[0;34m\u001b[0m\u001b[0m\n\u001b[0;32m---> 84\u001b[0;31m \u001b[0;34m\u001b[0m\u001b[0m\n\u001b[0m\u001b[1;32m     85\u001b[0m \u001b[0;34m\u001b[0m\u001b[0m\n\u001b[1;32m     86\u001b[0m \u001b[0;32mdef\u001b[0m \u001b[0m_check_x12\u001b[0m\u001b[0;34m(\u001b[0m\u001b[0mx12path\u001b[0m\u001b[0;34m=\u001b[0m\u001b[0;34m\"x13as\"\u001b[0m\u001b[0;34m)\u001b[0m\u001b[0;34m:\u001b[0m\u001b[0;34m\u001b[0m\u001b[0;34m\u001b[0m\u001b[0m\n",
      "\u001b[0;31mX13NotFoundError\u001b[0m: x12a and x13as not found on path. Give the path, put them on PATH, or set the X12PATH or X13PATH environmental variable."
     ]
    }
   ],
   "source": [
    "# Having issue with statsmodels wrapper for CB x13 binary. Not sure why the error message is still showing since\n",
    "# I deleted it from the package. Going to just do seasonal adjustment directly from CB program for the time being. \n",
    "%env X13 = \"./x13as\"\n",
    "sx13.x13_arima_analysis(texas_totals)"
   ]
  },
  {
   "cell_type": "code",
   "execution_count": 45,
   "metadata": {},
   "outputs": [],
   "source": [
    "# Save total tax series for selected states as space separated text files to fit X13 expected input format.\n",
    "#os.chdir(\"SA\")\n",
    "california_totals.to_csv(\"california_totals\", header = True, date_format = '%Y-%m')\n",
    "texas_totals.to_csv(\"texas_totals\", header = True, date_format = '%Y-%m')\n",
    "newyork_totals.to_csv(\"newyork_totals\", header = True, date_format = '%Y-%m')"
   ]
  },
  {
   "cell_type": "code",
   "execution_count": null,
   "metadata": {},
   "outputs": [],
   "source": [
    "california_totals = pd.read_csv(\"california_totals_adj.csv\", header = 0, index_col = \"time\",parse_dates = True, infer_datetime_format = True)\n",
    "texas_totals = pd.read_csv(\"texas_totals_adj.csv\", header = 0, index_col = \"time\",parse_dates = True, infer_datetime_format = True)\n"
   ]
  },
  {
   "cell_type": "code",
   "execution_count": 48,
   "metadata": {},
   "outputs": [
    {
     "data": {
      "text/plain": [
       "<matplotlib.axes._subplots.AxesSubplot at 0x134a0acf8>"
      ]
     },
     "execution_count": 48,
     "metadata": {},
     "output_type": "execute_result"
    },
    {
     "data": {
      "image/png": "[encoded data removed]",
      "text/plain": [
       "<Figure size 432x288 with 1 Axes>"
      ]
     },
     "metadata": {
      "needs_background": "light"
     },
     "output_type": "display_data"
    }
   ],
   "source": [
    "texas_totals.adj.plot()\n",
    "california_totals.adj.plot()"
   ]
  },
  {
   "cell_type": "code",
   "execution_count": 53,
   "metadata": {},
   "outputs": [],
   "source": [
    "texas_totals[\"state\"] = \"TX\"\n",
    "california_totals[\"state\"] = \"CA\""
   ]
  },
  {
   "cell_type": "code",
   "execution_count": 57,
   "metadata": {},
   "outputs": [],
   "source": [
    "tx_ca = texas_totals.append(california_totals)[[\"adj\",\"state\"]]"
   ]
  },
  {
   "cell_type": "code",
   "execution_count": null,
   "metadata": {},
   "outputs": [],
   "source": []
  }
 ],
 "metadata": {
  "kernelspec": {
   "display_name": "Python 3",
   "language": "python",
   "name": "python3"
  },
  "language_info": {
   "codemirror_mode": {
    "name": "ipython",
    "version": 3
   },
   "file_extension": ".py",
   "mimetype": "text/x-python",
   "name": "python",
   "nbconvert_exporter": "python",
   "pygments_lexer": "ipython3",
   "version": "3.7.3"
  }
 },
 "nbformat": 4,
 "nbformat_minor": 2
}
